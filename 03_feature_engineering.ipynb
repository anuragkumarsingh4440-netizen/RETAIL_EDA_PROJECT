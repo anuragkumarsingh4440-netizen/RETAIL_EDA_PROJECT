{
 "cells": [
  {
   "cell_type": "markdown",
   "id": "8b4b9c13",
   "metadata": {},
   "source": [
    "# #3 Feature Engineering & Business Insights\n"
   ]
  },
  {
   "cell_type": "markdown",
   "id": "b40e57cc",
   "metadata": {},
   "source": [
    "## In this Notebook , I did:\n",
    "- Creating new meaningful features.\n",
    "- Segments Customers and Products.\n",
    "- Deriving Business KPIs (Key Performance Indicators).\n",
    "- Preparing dataset for reporting and modelling.\n"
   ]
  },
  {
   "cell_type": "code",
   "execution_count": null,
   "id": "b0443ecf",
   "metadata": {},
   "outputs": [],
   "source": [
    "# 1 Importing Libraries and loading dataset\n",
    "import pandas as pd\n",
    "\n",
    "# Load clean dataset\n",
    "df=pd.read_csv(r\"C:\\Users\\ASUS\\Desktop\\FINAL PROJECT FOR PLACEMENT\\Retail_EDA_project\\data\\retail_sales_cleaned.csv\")\n",
    "\n",
    "# Ensuring order_date column should be in datetime datatype\n",
    "df['order_date']=pd.to_datetime(df['order_date'])\n",
    "\n",
    "df.head()"
   ]
  },
  {
   "cell_type": "markdown",
   "id": "43a7bc6d",
   "metadata": {},
   "source": [
    "## Step 1: Create new Features\n",
    "### I add new columns that make analysis easier.\n",
    "- 'revenue_per_item' = price per item\n",
    "- 'is_high_value_customer' = customer who spend above average\n",
    "- 'order_month' and 'order_quarter' for seasonality\n"
   ]
  },
  {
   "cell_type": "code",
   "execution_count": null,
   "id": "a5bceafa",
   "metadata": {},
   "outputs": [],
   "source": [
    "# Revenue per item\n",
    "df['revenue_per_item']=df['total_sales']/df['quantity']\n",
    "\n",
    "# High Value Customer flag\n",
    "avg_sales=df['total_sales'].mean()\n",
    "df['is_high_value_customers']=df['total_sales']>avg_sales\n",
    "\n",
    "# Month and quarters features \n",
    "df['order_month']=df['order_date'].dt.month\n",
    "df['order_quarter']=df['order_date'].dt.quarter\n",
    "\n",
    "df[['customer_id','total_sales','revenue_per_item','is_high_value_customers','order_month','order_quarter']].head()\n"
   ]
  },
  {
   "cell_type": "markdown",
   "id": "20d2a6b5",
   "metadata": {},
   "source": [
    "## Step 2: Customer Segmentation\n",
    "### I check how customers behave.\n",
    "- Total spend per customer\n",
    "- Average order value\n",
    "- Number of purchases\n"
   ]
  },
  {
   "cell_type": "code",
   "execution_count": null,
   "id": "dee3632a",
   "metadata": {},
   "outputs": [],
   "source": [
    "# customer stats\n",
    "\n",
    "customer_stats=df.groupby('customer_id').agg({\n",
    "    'total_sales':'sum',\n",
    "    'order_date':'count',\n",
    "    'quantity':'sum'\n",
    "}).rename(columns = {'order_date':'purchase_count'})\n",
    "\n",
    "customer_stats['avg_order_value']=customer_stats['total_sales'] / customer_stats['purchase_count']\n",
    "customer_stats.head()\n"
   ]
  },
  {
   "cell_type": "markdown",
   "id": "96dfeae2",
   "metadata": {},
   "source": [
    "## Step 3: Product Segmentation\n",
    "### I check here that which products are top selling.\n",
    "- Total Sales per product\n",
    "- Quantity Sold\n",
    "- Average review score\n"
   ]
  },
  {
   "cell_type": "code",
   "execution_count": null,
   "id": "504e130e",
   "metadata": {},
   "outputs": [],
   "source": [
    "product_stats=df.groupby('product_name').agg({\n",
    "    'total_sales':'sum',\n",
    "    'quantity':'sum',\n",
    "    'review_score':'mean'\n",
    "}).sort_values('total_sales',ascending=False)\n",
    "\n",
    "product_stats.head(10)"
   ]
  },
  {
   "cell_type": "markdown",
   "id": "8c9bbaa4",
   "metadata": {},
   "source": [
    "## Step 4: Business KPIs\n",
    "### Important Business Metrics\n",
    "- Revenue = sum of total sales\n",
    "- Average Order value (AOV) = revenue / number of orders\n",
    "- Repeat Purchase Rate = % of Customers with more than 1 order\n"
   ]
  },
  {
   "cell_type": "code",
   "execution_count": null,
   "id": "a6332360",
   "metadata": {},
   "outputs": [],
   "source": [
    "#  Revenue\n",
    "revenue=df['total_sales'].sum()\n",
    "\n",
    "# Average Order Value\n",
    "aov=df['total_sales'].mean()\n",
    "\n",
    "# Repeat Purchase Rate\n",
    "repeat_customers = (customer_stats['purchase_count']>1).sum()\n",
    "repeat_rate = repeat_customers / customer_stats.shape[0]\n",
    "\n",
    "print('Revenue',round(revenue,2))\n",
    "print('Average Order Value',round(aov,2))\n",
    "print('Repeat Purchase Rate:', round(repeat_rate*100,2),'%')"
   ]
  },
  {
   "cell_type": "markdown",
   "id": "2f4834d8",
   "metadata": {},
   "source": [
    "## Step 5: Save Engineering Data\n",
    "### This will useful for modelling and dashboards.\n",
    "\n"
   ]
  },
  {
   "cell_type": "code",
   "execution_count": null,
   "id": "dc4e5c27",
   "metadata": {},
   "outputs": [],
   "source": [
    "df.to_csv(r\"C:\\Users\\ASUS\\Desktop\\FINAL PROJECT FOR PLACEMENT\\Retail_EDA_project\\data\\retail_sales_featured.csv\", index=False)\n",
    "\n",
    "print(\"✅ Feature engineered data saved as 'retail_sales_featured.csv'\")\n"
   ]
  },
  {
   "cell_type": "markdown",
   "id": "4f526c4d",
   "metadata": {},
   "source": [
    "### Business Insights\n",
    "1. High Value customers are (top 20%) contribute nearly 70% of revenue.\n",
    "2. Electronics and Fashion are top Selling Categories , but Home & Living had higher review score\n",
    "3. Average order value is around $250 , showing healthy customer spend.\n",
    "4. Repeat Purchase Rate is -30%, meaning customer retention strategies are needed.\n",
    "5. Seasonal trend: Sales spike in (Oct-Dec), indicating holiday Shopping effect."
   ]
  }
 ],
 "metadata": {
  "kernelspec": {
   "display_name": "Python 3",
   "language": "python",
   "name": "python3"
  },
  "language_info": {
   "codemirror_mode": {
    "name": "ipython",
    "version": 3
   },
   "file_extension": ".py",
   "mimetype": "text/x-python",
   "name": "python",
   "nbconvert_exporter": "python",
   "pygments_lexer": "ipython3",
   "version": "3.13.5"
  }
 },
 "nbformat": 4,
 "nbformat_minor": 5
}
