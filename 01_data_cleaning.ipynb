{
 "cells": [
  {
   "cell_type": "markdown",
   "id": "b4164199",
   "metadata": {},
   "source": [
    "#  #2 Data  Cleaning & PreProcessing"
   ]
  },
  {
   "cell_type": "markdown",
   "id": "d262295f",
   "metadata": {},
   "source": [
    "# In this notebook I will :-\n",
    "- Handle missing values\n",
    "- Fix data types(especially dates)\n",
    "- Remove duplicates\n",
    "- Create new useful columns\n",
    "- Handle Outliers"
   ]
  },
  {
   "cell_type": "code",
   "execution_count": 35,
   "id": "dbebf649",
   "metadata": {},
   "outputs": [],
   "source": [
    "# Importing Libraries\n",
    "import pandas as pd\n",
    "import numpy as np\n"
   ]
  },
  {
   "cell_type": "code",
   "execution_count": 36,
   "id": "448389ca",
   "metadata": {},
   "outputs": [
    {
     "name": "stdout",
     "output_type": "stream",
     "text": [
      "Initial shape of the data :-  (1000, 13)\n"
     ]
    }
   ],
   "source": [
    "#  1. Importing the dataset\n",
    "df = pd.read_csv(r\"C:\\Users\\ASUS\\Desktop\\FINAL PROJECT FOR PLACEMENT\\Retail_EDA_project\\data\\retail_sales.csv\")\n",
    "print(\"Initial shape of the data :- \", df.shape)"
   ]
  },
  {
   "cell_type": "code",
   "execution_count": 37,
   "id": "526f28d4",
   "metadata": {},
   "outputs": [
    {
     "data": {
      "text/plain": [
       "customer_id       0\n",
       "order_date        0\n",
       "product_id        0\n",
       "category_id       0\n",
       "category_name     0\n",
       "product_name      0\n",
       "quantity          0\n",
       "price             0\n",
       "payment_method    0\n",
       "city              0\n",
       "review_score      0\n",
       "gender            0\n",
       "age               0\n",
       "dtype: int64"
      ]
     },
     "execution_count": 37,
     "metadata": {},
     "output_type": "execute_result"
    }
   ],
   "source": [
    "# 2.Handle Missing Values\n",
    "#  Checking for missing values\n",
    "df.isnull().sum()\n",
    "\n",
    "# here i found that review_score and gender columns have missing values\n",
    "#  For review_score :- i fill the mean/median of (same row)\n",
    "#  For gender :- i fill it with the mode of that column\n",
    "\n",
    "# Filling missing values\n",
    "df['review_score']=df['review_score'].fillna(df['review_score'].median())\n",
    "df['gender']=df['gender'].fillna(df['gender'].mode()[0])\n",
    "\n",
    "#  Missing values after filling\n",
    "df.isnull().sum() \n",
    "# output is 0 now"
   ]
  },
  {
   "cell_type": "code",
   "execution_count": 38,
   "id": "721b3244",
   "metadata": {},
   "outputs": [
    {
     "name": "stdout",
     "output_type": "stream",
     "text": [
      "Duplicates before : 0\n",
      "Duplicates after : 0\n"
     ]
    }
   ],
   "source": [
    "# 3. Remove Duplicates\n",
    "print(\"Duplicates before :\",df.duplicated().sum())\n",
    "\n",
    "# Dropping duplicates\n",
    "df.drop_duplicates()\n",
    "\n",
    "print(\"Duplicates after :\",df.duplicated().sum())"
   ]
  },
  {
   "cell_type": "code",
   "execution_count": 39,
   "id": "d235b1a6",
   "metadata": {},
   "outputs": [
    {
     "data": {
      "text/plain": [
       "customer_id                int64\n",
       "order_date        datetime64[ns]\n",
       "product_id                 int64\n",
       "category_id                int64\n",
       "category_name             object\n",
       "product_name              object\n",
       "quantity                   int64\n",
       "price                    float64\n",
       "payment_method            object\n",
       "city                      object\n",
       "review_score             float64\n",
       "gender                    object\n",
       "age                        int64\n",
       "dtype: object"
      ]
     },
     "execution_count": 39,
     "metadata": {},
     "output_type": "execute_result"
    }
   ],
   "source": [
    "#  4 Fixing Data types\n",
    "\n",
    "# Here I convert order_date to datetime\n",
    "df['order_date']=pd.to_datetime(df['order_date'])\n",
    "\n",
    "# Verifying conversion of order_date column\n",
    "df.dtypes"
   ]
  },
  {
   "cell_type": "code",
   "execution_count": 40,
   "id": "f8f32279",
   "metadata": {},
   "outputs": [
    {
     "data": {
      "text/html": [
       "<div>\n",
       "<style scoped>\n",
       "    .dataframe tbody tr th:only-of-type {\n",
       "        vertical-align: middle;\n",
       "    }\n",
       "\n",
       "    .dataframe tbody tr th {\n",
       "        vertical-align: top;\n",
       "    }\n",
       "\n",
       "    .dataframe thead th {\n",
       "        text-align: right;\n",
       "    }\n",
       "</style>\n",
       "<table border=\"1\" class=\"dataframe\">\n",
       "  <thead>\n",
       "    <tr style=\"text-align: right;\">\n",
       "      <th></th>\n",
       "      <th>customer_id</th>\n",
       "      <th>order_date</th>\n",
       "      <th>product_id</th>\n",
       "      <th>category_id</th>\n",
       "      <th>category_name</th>\n",
       "      <th>product_name</th>\n",
       "      <th>quantity</th>\n",
       "      <th>price</th>\n",
       "      <th>payment_method</th>\n",
       "      <th>city</th>\n",
       "      <th>review_score</th>\n",
       "      <th>gender</th>\n",
       "      <th>age</th>\n",
       "      <th>total_sales</th>\n",
       "      <th>year</th>\n",
       "      <th>month</th>\n",
       "      <th>day</th>\n",
       "      <th>day_name</th>\n",
       "    </tr>\n",
       "  </thead>\n",
       "  <tbody>\n",
       "    <tr>\n",
       "      <th>0</th>\n",
       "      <td>13542</td>\n",
       "      <td>2024-12-17</td>\n",
       "      <td>784</td>\n",
       "      <td>10</td>\n",
       "      <td>Electronics</td>\n",
       "      <td>Smartphone</td>\n",
       "      <td>2</td>\n",
       "      <td>373.36</td>\n",
       "      <td>Credit Card</td>\n",
       "      <td>New Oliviaberg</td>\n",
       "      <td>1.0</td>\n",
       "      <td>F</td>\n",
       "      <td>56</td>\n",
       "      <td>746.72</td>\n",
       "      <td>2024</td>\n",
       "      <td>12</td>\n",
       "      <td>17</td>\n",
       "      <td>Tuesday</td>\n",
       "    </tr>\n",
       "    <tr>\n",
       "      <th>1</th>\n",
       "      <td>23188</td>\n",
       "      <td>2024-06-01</td>\n",
       "      <td>682</td>\n",
       "      <td>50</td>\n",
       "      <td>Sports &amp; Outdoors</td>\n",
       "      <td>Soccer Ball</td>\n",
       "      <td>5</td>\n",
       "      <td>299.34</td>\n",
       "      <td>Credit Card</td>\n",
       "      <td>Port Matthew</td>\n",
       "      <td>4.0</td>\n",
       "      <td>M</td>\n",
       "      <td>59</td>\n",
       "      <td>1496.70</td>\n",
       "      <td>2024</td>\n",
       "      <td>6</td>\n",
       "      <td>1</td>\n",
       "      <td>Saturday</td>\n",
       "    </tr>\n",
       "    <tr>\n",
       "      <th>2</th>\n",
       "      <td>55098</td>\n",
       "      <td>2025-02-04</td>\n",
       "      <td>684</td>\n",
       "      <td>50</td>\n",
       "      <td>Sports &amp; Outdoors</td>\n",
       "      <td>Tent</td>\n",
       "      <td>5</td>\n",
       "      <td>23.00</td>\n",
       "      <td>Credit Card</td>\n",
       "      <td>West Sarah</td>\n",
       "      <td>5.0</td>\n",
       "      <td>F</td>\n",
       "      <td>64</td>\n",
       "      <td>115.00</td>\n",
       "      <td>2025</td>\n",
       "      <td>2</td>\n",
       "      <td>4</td>\n",
       "      <td>Tuesday</td>\n",
       "    </tr>\n",
       "    <tr>\n",
       "      <th>3</th>\n",
       "      <td>65208</td>\n",
       "      <td>2024-10-28</td>\n",
       "      <td>204</td>\n",
       "      <td>40</td>\n",
       "      <td>Books &amp; Stationery</td>\n",
       "      <td>Story Book</td>\n",
       "      <td>2</td>\n",
       "      <td>230.11</td>\n",
       "      <td>Bank Transfer</td>\n",
       "      <td>Hernandezburgh</td>\n",
       "      <td>5.0</td>\n",
       "      <td>M</td>\n",
       "      <td>34</td>\n",
       "      <td>460.22</td>\n",
       "      <td>2024</td>\n",
       "      <td>10</td>\n",
       "      <td>28</td>\n",
       "      <td>Monday</td>\n",
       "    </tr>\n",
       "    <tr>\n",
       "      <th>4</th>\n",
       "      <td>63872</td>\n",
       "      <td>2024-05-10</td>\n",
       "      <td>202</td>\n",
       "      <td>20</td>\n",
       "      <td>Fashion</td>\n",
       "      <td>Skirt</td>\n",
       "      <td>4</td>\n",
       "      <td>176.72</td>\n",
       "      <td>Credit Card</td>\n",
       "      <td>Jenkinshaven</td>\n",
       "      <td>1.0</td>\n",
       "      <td>F</td>\n",
       "      <td>33</td>\n",
       "      <td>706.88</td>\n",
       "      <td>2024</td>\n",
       "      <td>5</td>\n",
       "      <td>10</td>\n",
       "      <td>Friday</td>\n",
       "    </tr>\n",
       "  </tbody>\n",
       "</table>\n",
       "</div>"
      ],
      "text/plain": [
       "   customer_id order_date  product_id  category_id       category_name  \\\n",
       "0        13542 2024-12-17         784           10         Electronics   \n",
       "1        23188 2024-06-01         682           50   Sports & Outdoors   \n",
       "2        55098 2025-02-04         684           50   Sports & Outdoors   \n",
       "3        65208 2024-10-28         204           40  Books & Stationery   \n",
       "4        63872 2024-05-10         202           20             Fashion   \n",
       "\n",
       "  product_name  quantity   price payment_method            city  review_score  \\\n",
       "0   Smartphone         2  373.36    Credit Card  New Oliviaberg           1.0   \n",
       "1  Soccer Ball         5  299.34    Credit Card    Port Matthew           4.0   \n",
       "2         Tent         5   23.00    Credit Card      West Sarah           5.0   \n",
       "3   Story Book         2  230.11  Bank Transfer  Hernandezburgh           5.0   \n",
       "4        Skirt         4  176.72    Credit Card    Jenkinshaven           1.0   \n",
       "\n",
       "  gender  age  total_sales  year  month  day  day_name  \n",
       "0      F   56       746.72  2024     12   17   Tuesday  \n",
       "1      M   59      1496.70  2024      6    1  Saturday  \n",
       "2      F   64       115.00  2025      2    4   Tuesday  \n",
       "3      M   34       460.22  2024     10   28    Monday  \n",
       "4      F   33       706.88  2024      5   10    Friday  "
      ]
     },
     "execution_count": 40,
     "metadata": {},
     "output_type": "execute_result"
    }
   ],
   "source": [
    "# 5 Creating new usefull columns from dateset\n",
    "\n",
    "# Here I see columns which are quantity and price ,so by help of these two column i create new column called total_sales.\n",
    "df['total_sales']=df['quantity']*df['price']\n",
    "\n",
    "# Now by help of order_date column , i create new columns\n",
    "df['year']=df['order_date'].dt.year\n",
    "df['month']=df['order_date'].dt.month\n",
    "df['day']=df['order_date'].dt.day\n",
    "df['day_name']=df['order_date'].dt.day_name()\n",
    "\n",
    "#  Checking new columns\n",
    "df.head()\n"
   ]
  },
  {
   "cell_type": "code",
   "execution_count": 41,
   "id": "d1d1baa0",
   "metadata": {},
   "outputs": [
    {
     "data": {
      "image/png": "[encoded data removed]",
      "text/plain": [
       "<Figure size 640x480 with 1 Axes>"
      ]
     },
     "metadata": {},
     "output_type": "display_data"
    },
    {
     "data": {
      "image/png": "[encoded data removed]",
      "text/plain": [
       "<Figure size 640x480 with 1 Axes>"
      ]
     },
     "metadata": {},
     "output_type": "display_data"
    }
   ],
   "source": [
    "#  6. Handling Outliers\n",
    "\n",
    "import matplotlib.pyplot as plt\n",
    "import seaborn as sns\n",
    "\n",
    "# Now I handle outliers of quantity and price column of dataset with help of boxplot\n",
    "\n",
    "# Visualizing Price Distribution\n",
    "sns.boxplot(x=df['price'])\n",
    "plt.title('Price Outlier Detection')\n",
    "plt.show()\n",
    "\n",
    "# Visualizing Quantity Distribution\n",
    "sns.boxplot(x=df['quantity'])\n",
    "plt.title('Quantity Outlier Detection')\n",
    "plt.show()\n",
    "\n",
    "# Looking on plot, I find that both have noo such outliers \n",
    "#  but also i perform some outlier removal for better result\n",
    "\n",
    "# Here I remove rows where price and quantity are below <=0\n",
    "df=df[(df['quantity']>0) & (df['price'] >0)]"
   ]
  },
  {
   "cell_type": "code",
   "execution_count": null,
   "id": "c501c299",
   "metadata": {},
   "outputs": [
    {
     "name": "stdout",
     "output_type": "stream",
     "text": [
      "Final Cleaned Data Shape:-  (1000, 18)\n"
     ]
    }
   ],
   "source": [
    "#  7 Final Clean Data Shape\n",
    "print('Final Cleaned Data Shape:- ',df.shape)"
   ]
  },
  {
   "cell_type": "code",
   "execution_count": 49,
   "id": "edf8ac8d",
   "metadata": {},
   "outputs": [
    {
     "name": "stdout",
     "output_type": "stream",
     "text": [
      "New cleaned dataset saved as retail_sales_cleaned.csv\n"
     ]
    }
   ],
   "source": [
    "# 8 Save New Cleaned Dataset\n",
    "import os\n",
    "os.makedirs(\"data\", exist_ok=True)  # Creates 'data' folder if it doesn't exist\n",
    "\n",
    "df.to_csv(r\"C:\\Users\\ASUS\\Desktop\\FINAL PROJECT FOR PLACEMENT\\Retail_EDA_project\\data\\retail_sales_cleaned.csv\", index=False)\n",
    "print(\"New cleaned dataset saved as retail_sales_cleaned.csv\")"
   ]
  }
 ],
 "metadata": {
  "kernelspec": {
   "display_name": "Python 3",
   "language": "python",
   "name": "python3"
  },
  "language_info": {
   "codemirror_mode": {
    "name": "ipython",
    "version": 3
   },
   "file_extension": ".py",
   "mimetype": "text/x-python",
   "name": "python",
   "nbconvert_exporter": "python",
   "pygments_lexer": "ipython3",
   "version": "3.13.5"
  }
 },
 "nbformat": 4,
 "nbformat_minor": 5
}
